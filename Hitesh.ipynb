{
 "cells": [
  {
   "cell_type": "code",
   "execution_count": 6,
   "metadata": {},
   "outputs": [],
   "source": [
    "import numpy as numpy"
   ]
  },
  {
   "cell_type": "code",
   "execution_count": 9,
   "metadata": {},
   "outputs": [
    {
     "name": "stdout",
     "output_type": "stream",
     "text": [
      "[ 1  2 34  5  6]\n",
      "[[ 1  4  5  6]\n",
      " [ 3 45 66  6]]\n"
     ]
    }
   ],
   "source": [
    "arr = numpy.array([1,2,34,5,6])\n",
    "print(arr)\n",
    "arr2 = numpy.array([[1,4,5,6],[3,45,66,6]])\n",
    "print(arr2)"
   ]
  },
  {
   "cell_type": "markdown",
   "metadata": {},
   "source": [
    "## list"
   ]
  },
  {
   "cell_type": "code",
   "execution_count": 10,
   "metadata": {},
   "outputs": [
    {
     "name": "stdout",
     "output_type": "stream",
     "text": [
      "[2, 3, 45, 2, 3, 45]\n",
      "[  4  68   8 110  10]\n"
     ]
    }
   ],
   "source": [
    "list  = [2,3,45]\n",
    "print(list*2)\n",
    "list_arr = numpy.array([2,34,4,55,5])\n",
    "print(list_arr * 2)"
   ]
  },
  {
   "cell_type": "code",
   "execution_count": 2,
   "metadata": {},
   "outputs": [
    {
     "name": "stdout",
     "output_type": "stream",
     "text": [
      "Maths: Mean = 71.86, Median = 70.5, Std Dev = 17.522568304903253\n",
      "Highest = 99, Lowest = 41\n",
      "\n",
      "Science: Mean = 65.5, Median = 68.5, Std Dev = 21.13977294107011\n",
      "Highest = 99, Lowest = 35\n",
      "\n",
      "English: Mean = 62.7, Median = 62.5, Std Dev = 18.964440408301005\n",
      "Highest = 95, Lowest = 30\n",
      "\n"
     ]
    }
   ],
   "source": [
    "import numpy as np\n",
    "\n",
    "\n",
    "# Generate random marks for 50 students in 3 subjects\n",
    "np.random.seed(42)  # For reproducibility\n",
    "maths_marks = np.random.randint(40, 100, 50)\n",
    "science_marks = np.random.randint(35, 100, 50)\n",
    "english_marks = np.random.randint(30, 100, 50)\n",
    "\n",
    "# Create a NumPy array\n",
    "marks = np.array([maths_marks, science_marks, english_marks])\n",
    "\n",
    "# Compute statistics\n",
    "mean_marks = np.mean(marks, axis=1)\n",
    "median_marks = np.median(marks, axis=1)\n",
    "std_dev = np.std(marks, axis=1)\n",
    "highest_marks = np.max(marks, axis=1)\n",
    "lowest_marks = np.min(marks, axis=1)\n",
    "\n",
    "# Print Results\n",
    "subjects = [\"Maths\", \"Science\", \"English\"]\n",
    "for i, subject in enumerate(subjects):\n",
    "    print(f\"{subject}: Mean = {mean_marks[i]}, Median = {median_marks[i]}, Std Dev = {std_dev[i]}\")\n",
    "    print(f\"Highest = {highest_marks[i]}, Lowest = {lowest_marks[i]}\\n\")\n",
    "\n"
   ]
  },
  {
   "cell_type": "code",
   "execution_count": 20,
   "metadata": {},
   "outputs": [
    {
     "name": "stdout",
     "output_type": "stream",
     "text": [
      "3199\n"
     ]
    }
   ],
   "source": [
    "import numpy as numpy\n",
    "\n",
    "Random = numpy.random.randint(10,50,100)\n",
    "numbers = np.where(Random  > 20)\n",
    "summ = np.sum(numbers)\n",
    "print(summ)"
   ]
  }
 ],
 "metadata": {
  "kernelspec": {
   "display_name": ".venv",
   "language": "python",
   "name": "python3"
  },
  "language_info": {
   "codemirror_mode": {
    "name": "ipython",
    "version": 3
   },
   "file_extension": ".py",
   "mimetype": "text/x-python",
   "name": "python",
   "nbconvert_exporter": "python",
   "pygments_lexer": "ipython3",
   "version": "3.12.3"
  }
 },
 "nbformat": 4,
 "nbformat_minor": 2
}
